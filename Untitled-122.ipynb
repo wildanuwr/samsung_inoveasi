{
 "cells": [
  {
   "cell_type": "code",
   "execution_count": 1,
   "metadata": {},
   "outputs": [
    {
     "name": "stdout",
     "output_type": "stream",
     "text": [
      "Hello , World!\n",
      "Hello\n",
      "Hello , World!\n",
      "Hello\n"
     ]
    }
   ],
   "source": [
    "def tampilkan_sesuatu():\n",
    "    print(\"Hello , World!\")\n",
    "    print(\"Hello\")\n",
    "    print(\"Hello , World!\")\n",
    "    print(\"Hello\")\n",
    "tampilkan_sesuatu()"
   ]
  },
  {
   "cell_type": "code",
   "execution_count": 10,
   "metadata": {},
   "outputs": [
    {
     "data": {
      "text/plain": [
       "9"
      ]
     },
     "execution_count": 10,
     "metadata": {},
     "output_type": "execute_result"
    }
   ],
   "source": [
    "def tambahkan_nilai(x, y):\n",
    "    return x + y\n",
    "tambahkan_nilai(7,2)"
   ]
  },
  {
   "cell_type": "code",
   "execution_count": 7,
   "metadata": {},
   "outputs": [
    {
     "data": {
      "text/plain": [
       "[1, 4, 9]"
      ]
     },
     "execution_count": 7,
     "metadata": {},
     "output_type": "execute_result"
    }
   ],
   "source": [
    "def pangkat_dua(x):\n",
    "    temp_list = []\n",
    "    for elem in x:\n",
    "        temp_list.append(elem ** 2)\n",
    "    return temp_list\n",
    "pangkat_dua([1,2,3])"
   ]
  },
  {
   "cell_type": "code",
   "execution_count": 9,
   "metadata": {},
   "outputs": [
    {
     "data": {
      "text/plain": [
       "'Selamat Hari  Sabtu, Bapak/Ibu Wildanu , Nomor Pelanggan Anda 98231912, Terimakasih'"
      ]
     },
     "execution_count": 9,
     "metadata": {},
     "output_type": "execute_result"
    }
   ],
   "source": [
    "def salam_pelanggan(nama,nomor_pelanggan,hari):\n",
    "    return f\"Selamat Hari {hari}, Bapak/Ibu {nama} , Nomor Pelanggan Anda {nomor_pelanggan}, Terimakasih\"\n",
    "salam_pelanggan(nama= \"Wildanu\", nomor_pelanggan=\"98231912\", hari= \" Sabtu\")"
   ]
  },
  {
   "cell_type": "code",
   "execution_count": 11,
   "metadata": {},
   "outputs": [
    {
     "name": "stdout",
     "output_type": "stream",
     "text": [
      "5\n"
     ]
    }
   ],
   "source": [
    "lambda_1 = lambda x,y : x + y\n",
    "print(lambda_1(2,3))"
   ]
  },
  {
   "cell_type": "code",
   "execution_count": 13,
   "metadata": {},
   "outputs": [
    {
     "name": "stdout",
     "output_type": "stream",
     "text": [
      "[1, 4, 9, 16, 25, 36, 49]\n"
     ]
    }
   ],
   "source": [
    "a = [1,2,3,4,5,6,7]\n",
    "a_kuadrat = list(map(lambda x: x ** 2, a))\n",
    "\n",
    "print(a_kuadrat)"
   ]
  },
  {
   "cell_type": "code",
   "execution_count": 18,
   "metadata": {},
   "outputs": [
    {
     "data": {
      "text/plain": [
       "'Halo perkenalkan nama saya Jhosua dan gender saya Laki-Laki dan umur saya sekarang 20'"
      ]
     },
     "execution_count": 18,
     "metadata": {},
     "output_type": "execute_result"
    }
   ],
   "source": [
    "class Orang:\n",
    "    tipe = \"Manusia\"\n",
    "    def __init__(self,nama,gender,umur):\n",
    "        self.nama = nama\n",
    "        self.gender = gender\n",
    "        self.umur = umur\n",
    "    def perkenalan(self):\n",
    "       return f\"Halo perkenalkan nama saya {self.nama} dan gender saya {self.gender} dan umur saya sekarang {self.umur}\"\n",
    "\n",
    "Jhosua = Orang(\"Jhosua\",\"Laki-Laki\",20)\n",
    "Budi = Orang(\"Budi\",\"Laki-Laki\",22)\n",
    "\n",
    "Jhosua.perkenalan()"
   ]
  },
  {
   "cell_type": "code",
   "execution_count": 25,
   "metadata": {},
   "outputs": [
    {
     "name": "stdout",
     "output_type": "stream",
     "text": [
      "Ahmad\n",
      "Wildanu\n",
      "Wahyu\n",
      "Ramadhan\n"
     ]
    }
   ],
   "source": [
    "def test2(*param):\n",
    "    for name in param:\n",
    "        print(name)\n",
    "\n",
    "test2(\"Ahmad\", \"Wildanu\", \"Wahyu\", \"Ramadhan\")"
   ]
  },
  {
   "cell_type": "code",
   "execution_count": 23,
   "metadata": {},
   "outputs": [
    {
     "name": "stdout",
     "output_type": "stream",
     "text": [
      "Hasil :  4.0\n"
     ]
    }
   ],
   "source": [
    "def kalkulator(baris):\n",
    "    a , operasi , b = baris.split()\n",
    "    simbol = [\"+\",\"-\",\"*\",\"/\",\"//\",\"%\",\"**\"]\n",
    "    if operasi in simbol:\n",
    "        if operasi == \"/\" and b == 0:\n",
    "            return \"Error! Tidak bisa membagi dengan nol.\"\n",
    "        else:\n",
    "            return eval(f\"{float(a)} {operasi} {float(b)}\")\n",
    "    else:\n",
    "        return \"Operasi tidak valid.\"\n",
    "input_nilai = input(\"Kalkulator : \")\n",
    "print(\"Hasil : \",kalkulator(input_nilai))"
   ]
  },
  {
   "cell_type": "code",
   "execution_count": 38,
   "metadata": {},
   "outputs": [
    {
     "name": "stdout",
     "output_type": "stream",
     "text": [
      "total buah manis: 2\n",
      "total buah tidak manis: 3\n"
     ]
    }
   ],
   "source": [
    "Input = [\n",
    "    {\n",
    "        \"nama\": \"apple\",\n",
    "        \"rasa\": \"manis\"\n",
    "    },\n",
    "    {\n",
    "        \"nama\": \"jambu\",\n",
    "        \"rasa\": \"manis\"    \n",
    "    },\n",
    "    {\n",
    "        \"nama\": \"lemon\",\n",
    "        \"rasa\": \"asam\" \n",
    "    },\n",
    "    {\n",
    "        \"nama\": \"strawberry\",\n",
    "        \"rasa\": \"asam\"   \n",
    "    },\n",
    "    {\n",
    "        \"nama\": \"durian\",\n",
    "        \"rasa\": \"pahit\"   \n",
    "    }\n",
    "]\n",
    "manis = list(filter(lambda x: x['rasa'] == 'manis', Input))\n",
    "tidak_manis = list(filter(lambda x: x['rasa'] != 'manis', Input))\n",
    "print(\"total buah manis:\",len(manis))\n",
    "print(\"total buah tidak manis:\", len(tidak_manis))"
   ]
  },
  {
   "cell_type": "code",
   "execution_count": 41,
   "metadata": {},
   "outputs": [
    {
     "name": "stdout",
     "output_type": "stream",
     "text": [
      "8\n",
      "-2\n",
      "15\n",
      "0.6\n"
     ]
    }
   ],
   "source": [
    "class perhitungan:\n",
    "    def __init__(self, angka1, angka2):\n",
    "        self.angka1 = angka1\n",
    "        self.angka2 = angka2\n",
    "\n",
    "    addition = lambda self:self.angka1 + self.angka2 \n",
    "    subtraction = lambda self:self.angka1 - self.angka2 \n",
    "    multiplication = lambda self:self.angka1 * self.angka2 \n",
    "    division = lambda self:self.angka1 / self.angka2 if self.angka2 != 0 else \"eror\"\n",
    "\n",
    "C_object = perhitungan(3, 5)\n",
    "print(C_object.addition())\n",
    "print(C_object.subtraction())\n",
    "print(C_object.multiplication())\n",
    "print(C_object.division())"
   ]
  }
 ],
 "metadata": {
  "kernelspec": {
   "display_name": "Python 3",
   "language": "python",
   "name": "python3"
  },
  "language_info": {
   "codemirror_mode": {
    "name": "ipython",
    "version": 3
   },
   "file_extension": ".py",
   "mimetype": "text/x-python",
   "name": "python",
   "nbconvert_exporter": "python",
   "pygments_lexer": "ipython3",
   "version": "3.12.2"
  }
 },
 "nbformat": 4,
 "nbformat_minor": 2
}
